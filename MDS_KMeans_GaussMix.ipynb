{
 "cells": [
  {
   "cell_type": "code",
   "execution_count": 1,
   "metadata": {},
   "outputs": [],
   "source": [
    "from scripts.ClusterTS_MDS import ClusterMDS\n",
    "from numpy import loadtxt, float32\n",
    "from pandas import DataFrame\n",
    "\n",
    "import matplotlib.pyplot as plt\n",
    "import colorcet as cc\n",
    "from matplotlib import rcParams\n",
    "rcParams.update({\n",
    "    \"text.usetex\": True,\n",
    "})"
   ]
  },
  {
   "cell_type": "code",
   "execution_count": 2,
   "metadata": {},
   "outputs": [],
   "source": [
    "PTEX_dissim = loadtxt(\"../data/PTEX_DTW_matrix.dat\", dtype= float32, delimiter = \",\")"
   ]
  },
  {
   "cell_type": "code",
   "execution_count": 3,
   "metadata": {},
   "outputs": [],
   "source": [
    "MDS_method = \"SMACOF-dissim-classic\"\n",
    "number_dims = tuple(range(2, 11))\n",
    "\n",
    "cluster_methods = (\"K-Means\", \"GaussMix\")\n",
    "number_clusters = tuple(range(2, 11))\n",
    "\n",
    "TEC_ClusterSeries = ClusterMDS(dissimilarity = PTEX_dissim)\n",
    "\n",
    "metrics_SMACOF_euclidean_classic_results = list()\n",
    "metrics_SMACOF_dtw_classic_results = list()"
   ]
  },
  {
   "cell_type": "markdown",
   "metadata": {},
   "source": [
    "## SMACOF utilizando matriz DTW y matriz euclidiana por factor de corrección con base a solución MDS clásica"
   ]
  },
  {
   "cell_type": "code",
   "execution_count": 4,
   "metadata": {},
   "outputs": [
    {
     "name": "stderr",
     "output_type": "stream",
     "text": [
      "/home/federico/.local/lib/python3.13/site-packages/numba/cuda/dispatcher.py:536: NumbaPerformanceWarning: Grid size 65 will likely result in GPU under-utilization due to low occupancy.\n",
      "  warn(NumbaPerformanceWarning(msg))\n",
      "/home/federico/.local/lib/python3.13/site-packages/numba/cuda/dispatcher.py:536: NumbaPerformanceWarning: Grid size 33 will likely result in GPU under-utilization due to low occupancy.\n",
      "  warn(NumbaPerformanceWarning(msg))\n",
      "/home/federico/.local/lib/python3.13/site-packages/numba/cuda/dispatcher.py:536: NumbaPerformanceWarning: Grid size 17 will likely result in GPU under-utilization due to low occupancy.\n",
      "  warn(NumbaPerformanceWarning(msg))\n",
      "/home/federico/.local/lib/python3.13/site-packages/numba/cuda/dispatcher.py:536: NumbaPerformanceWarning: Grid size 9 will likely result in GPU under-utilization due to low occupancy.\n",
      "  warn(NumbaPerformanceWarning(msg))\n",
      "/home/federico/.local/lib/python3.13/site-packages/numba/cuda/dispatcher.py:536: NumbaPerformanceWarning: Grid size 5 will likely result in GPU under-utilization due to low occupancy.\n",
      "  warn(NumbaPerformanceWarning(msg))\n",
      "/home/federico/.local/lib/python3.13/site-packages/numba/cuda/dispatcher.py:536: NumbaPerformanceWarning: Grid size 3 will likely result in GPU under-utilization due to low occupancy.\n",
      "  warn(NumbaPerformanceWarning(msg))\n",
      "/home/federico/.local/lib/python3.13/site-packages/numba/cuda/dispatcher.py:536: NumbaPerformanceWarning: Grid size 2 will likely result in GPU under-utilization due to low occupancy.\n",
      "  warn(NumbaPerformanceWarning(msg))\n",
      "/home/federico/.local/lib/python3.13/site-packages/numba/cuda/dispatcher.py:536: NumbaPerformanceWarning: Grid size 1 will likely result in GPU under-utilization due to low occupancy.\n",
      "  warn(NumbaPerformanceWarning(msg))\n"
     ]
    },
    {
     "name": "stdout",
     "output_type": "stream",
     "text": [
      "SMACOF-dissim-classic with 2 components has a stress-1 value of 0.108372\n",
      "SMACOF-dissim-classic with 3 components has a stress-1 value of 0.063821\n",
      "SMACOF-dissim-classic with 4 components has a stress-1 value of 0.049310\n",
      "SMACOF-dissim-classic with 5 components has a stress-1 value of 0.042305\n",
      "SMACOF-dissim-classic with 6 components has a stress-1 value of 0.038504\n",
      "SMACOF-dissim-classic with 7 components has a stress-1 value of 0.036460\n",
      "SMACOF-dissim-classic with 8 components has a stress-1 value of 0.035290\n",
      "SMACOF-dissim-classic with 9 components has a stress-1 value of 0.034444\n",
      "SMACOF-dissim-classic with 10 components has a stress-1 value of 0.033899\n"
     ]
    }
   ],
   "source": [
    "for num_dims in number_dims:\n",
    "    TEC_ClusterSeries.ComputeMDS(num_comps_mds = num_dims, method = MDS_method, max_iter = 2000, eps = 1e-6, verbose = 0, visualize_shepard = False)\n",
    "\n",
    "    for cluster_method in cluster_methods:\n",
    "        for num_clusters in number_clusters:\n",
    "            cluster_metrics = TEC_ClusterSeries.ClusterTSVectors(num_clusters = num_clusters, cluster_method = cluster_method, max_iter = 10_000)\n",
    "            cluster_metrics = {\"Method\": cluster_method, \"Dims\": num_dims, \"Clusters\": num_clusters} | cluster_metrics\n",
    "                \n",
    "            metrics_SMACOF_dtw_classic_results.append(cluster_metrics)"
   ]
  },
  {
   "cell_type": "markdown",
   "metadata": {},
   "source": [
    "## Metricas de evaluación"
   ]
  },
  {
   "cell_type": "code",
   "execution_count": 5,
   "metadata": {},
   "outputs": [
    {
     "data": {
      "application/vnd.microsoft.datawrangler.viewer.v0+json": {
       "columns": [
        {
         "name": "index",
         "rawType": "int64",
         "type": "integer"
        },
        {
         "name": "Method",
         "rawType": "object",
         "type": "string"
        },
        {
         "name": "Dims",
         "rawType": "int64",
         "type": "integer"
        },
        {
         "name": "Clusters",
         "rawType": "int64",
         "type": "integer"
        },
        {
         "name": "SH_score",
         "rawType": "float64",
         "type": "float"
        },
        {
         "name": "CH_score",
         "rawType": "float64",
         "type": "float"
        },
        {
         "name": "DB_score",
         "rawType": "float64",
         "type": "float"
        }
       ],
       "ref": "5ac7d58a-1f8c-4cf1-ab44-3fd5bd0cdd55",
       "rows": [
        [
         "0",
         "K-Means",
         "2",
         "2",
         "0.6457946300506592",
         "8199.580078125",
         "0.5680386559501523"
        ],
        [
         "1",
         "K-Means",
         "2",
         "3",
         "0.7040616273880005",
         "12464.255859375",
         "0.4572502692810347"
        ],
        [
         "2",
         "K-Means",
         "2",
         "4",
         "0.6629624962806702",
         "11650.318359375",
         "0.6048076810799798"
        ],
        [
         "3",
         "K-Means",
         "2",
         "5",
         "0.5719736814498901",
         "11712.6650390625",
         "0.6779686448653657"
        ],
        [
         "4",
         "K-Means",
         "2",
         "6",
         "0.5418403148651123",
         "11313.93359375",
         "0.681109368349445"
        ],
        [
         "5",
         "K-Means",
         "2",
         "7",
         "0.5247281789779663",
         "10945.3583984375",
         "0.7314855210467661"
        ],
        [
         "6",
         "K-Means",
         "2",
         "8",
         "0.49031969904899597",
         "10597.7568359375",
         "0.7936884762358245"
        ],
        [
         "7",
         "K-Means",
         "2",
         "9",
         "0.42990434169769287",
         "9364.9814453125",
         "0.7817784114377161"
        ],
        [
         "8",
         "K-Means",
         "2",
         "10",
         "0.4115864932537079",
         "9622.7490234375",
         "0.9138794197203982"
        ],
        [
         "9",
         "GaussMix",
         "2",
         "2",
         "0.5763117671012878",
         "5989.89794921875",
         "0.602464810249384"
        ],
        [
         "10",
         "GaussMix",
         "2",
         "3",
         "0.5403872728347778",
         "5232.89892578125",
         "0.573819098641649"
        ],
        [
         "11",
         "GaussMix",
         "2",
         "4",
         "0.4597066342830658",
         "6064.962890625",
         "0.9322283295120941"
        ],
        [
         "12",
         "GaussMix",
         "2",
         "5",
         "0.4969502389431",
         "4236.88525390625",
         "1.0940335382791695"
        ],
        [
         "13",
         "GaussMix",
         "2",
         "6",
         "0.40209105610847473",
         "4286.78955078125",
         "2.1815021624461886"
        ],
        [
         "14",
         "GaussMix",
         "2",
         "7",
         "0.39150917530059814",
         "4087.4580078125",
         "2.0364535920684133"
        ],
        [
         "15",
         "GaussMix",
         "2",
         "8",
         "0.32746022939682007",
         "3690.8330078125",
         "2.192573615638538"
        ],
        [
         "16",
         "GaussMix",
         "2",
         "9",
         "0.3589284420013428",
         "4876.98828125",
         "1.2864342404765423"
        ],
        [
         "17",
         "GaussMix",
         "2",
         "10",
         "0.25188758969306946",
         "3125.806884765625",
         "2.796077619518617"
        ],
        [
         "18",
         "K-Means",
         "3",
         "2",
         "0.617336094379425",
         "7326.71142578125",
         "0.6339620347749859"
        ],
        [
         "19",
         "K-Means",
         "3",
         "3",
         "0.6666968464851379",
         "8829.8349609375",
         "0.5758200754879661"
        ],
        [
         "20",
         "K-Means",
         "3",
         "4",
         "0.6087562441825867",
         "8090.93603515625",
         "0.739297187895563"
        ],
        [
         "21",
         "K-Means",
         "3",
         "5",
         "0.5150097012519836",
         "7562.61279296875",
         "0.7922543563708319"
        ],
        [
         "22",
         "K-Means",
         "3",
         "6",
         "0.582857608795166",
         "6663.89990234375",
         "0.8518913584393996"
        ],
        [
         "23",
         "K-Means",
         "3",
         "7",
         "0.49394872784614563",
         "7343.0859375",
         "0.8574339288079402"
        ],
        [
         "24",
         "K-Means",
         "3",
         "8",
         "0.49880558252334595",
         "6662.81640625",
         "0.9330636031754043"
        ],
        [
         "25",
         "K-Means",
         "3",
         "9",
         "0.4781457185745239",
         "6863.64990234375",
         "0.878179714075822"
        ],
        [
         "26",
         "K-Means",
         "3",
         "10",
         "0.428973525762558",
         "6687.05029296875",
         "0.9064932248922531"
        ],
        [
         "27",
         "GaussMix",
         "3",
         "2",
         "0.5377166867256165",
         "5169.33544921875",
         "0.6756055969678656"
        ],
        [
         "28",
         "GaussMix",
         "3",
         "3",
         "0.5330535769462585",
         "5013.12158203125",
         "0.7094367536951918"
        ],
        [
         "29",
         "GaussMix",
         "3",
         "4",
         "0.47617095708847046",
         "6243.4482421875",
         "1.0904791254414212"
        ],
        [
         "30",
         "GaussMix",
         "3",
         "5",
         "0.4218202531337738",
         "3995.41650390625",
         "1.8555216347817123"
        ],
        [
         "31",
         "GaussMix",
         "3",
         "6",
         "0.37233448028564453",
         "3555.51123046875",
         "1.8197235769548807"
        ],
        [
         "32",
         "GaussMix",
         "3",
         "7",
         "0.30095815658569336",
         "3581.943603515625",
         "1.731694557499377"
        ],
        [
         "33",
         "GaussMix",
         "3",
         "8",
         "0.2969808280467987",
         "3633.09521484375",
         "1.4652472780575785"
        ],
        [
         "34",
         "GaussMix",
         "3",
         "9",
         "0.2898106276988983",
         "3106.287109375",
         "1.5766222446566125"
        ],
        [
         "35",
         "GaussMix",
         "3",
         "10",
         "0.17804330587387085",
         "2920.748291015625",
         "1.7361873614997798"
        ],
        [
         "36",
         "K-Means",
         "4",
         "2",
         "0.6081809401512146",
         "7148.96826171875",
         "0.6501020235098238"
        ],
        [
         "37",
         "K-Means",
         "4",
         "3",
         "0.6548875570297241",
         "8253.1435546875",
         "0.6116931830582507"
        ],
        [
         "38",
         "K-Means",
         "4",
         "4",
         "0.5863497257232666",
         "6922.76025390625",
         "0.905925612798572"
        ],
        [
         "39",
         "K-Means",
         "4",
         "5",
         "0.563473105430603",
         "5594.70703125",
         "0.9943983529043781"
        ],
        [
         "40",
         "K-Means",
         "4",
         "6",
         "0.5410987734794617",
         "4921.68115234375",
         "1.0658305048002883"
        ],
        [
         "41",
         "K-Means",
         "4",
         "7",
         "0.480285108089447",
         "5456.9912109375",
         "0.931501989263508"
        ],
        [
         "42",
         "K-Means",
         "4",
         "8",
         "0.46161189675331116",
         "5043.39404296875",
         "0.9351147416834373"
        ],
        [
         "43",
         "K-Means",
         "4",
         "9",
         "0.4627094268798828",
         "5114.77783203125",
         "0.9501142718803326"
        ],
        [
         "44",
         "K-Means",
         "4",
         "10",
         "0.44765907526016235",
         "4934.25537109375",
         "0.9403149385265468"
        ],
        [
         "45",
         "GaussMix",
         "4",
         "2",
         "0.5210400819778442",
         "4913.666015625",
         "0.6973314742483564"
        ],
        [
         "46",
         "GaussMix",
         "4",
         "3",
         "0.37642204761505127",
         "3745.70654296875",
         "1.3639446953263612"
        ],
        [
         "47",
         "GaussMix",
         "4",
         "4",
         "0.4535662531852722",
         "5791.81396484375",
         "1.1549015499549493"
        ],
        [
         "48",
         "GaussMix",
         "4",
         "5",
         "0.45133498311042786",
         "3633.297607421875",
         "1.283480989236761"
        ],
        [
         "49",
         "GaussMix",
         "4",
         "6",
         "0.30138176679611206",
         "3317.384033203125",
         "1.8943259800556156"
        ]
       ],
       "shape": {
        "columns": 6,
        "rows": 162
       }
      },
      "text/html": [
       "<div>\n",
       "<style scoped>\n",
       "    .dataframe tbody tr th:only-of-type {\n",
       "        vertical-align: middle;\n",
       "    }\n",
       "\n",
       "    .dataframe tbody tr th {\n",
       "        vertical-align: top;\n",
       "    }\n",
       "\n",
       "    .dataframe thead th {\n",
       "        text-align: right;\n",
       "    }\n",
       "</style>\n",
       "<table border=\"1\" class=\"dataframe\">\n",
       "  <thead>\n",
       "    <tr style=\"text-align: right;\">\n",
       "      <th></th>\n",
       "      <th>Method</th>\n",
       "      <th>Dims</th>\n",
       "      <th>Clusters</th>\n",
       "      <th>SH_score</th>\n",
       "      <th>CH_score</th>\n",
       "      <th>DB_score</th>\n",
       "    </tr>\n",
       "  </thead>\n",
       "  <tbody>\n",
       "    <tr>\n",
       "      <th>0</th>\n",
       "      <td>K-Means</td>\n",
       "      <td>2</td>\n",
       "      <td>2</td>\n",
       "      <td>0.645795</td>\n",
       "      <td>8199.580078</td>\n",
       "      <td>0.568039</td>\n",
       "    </tr>\n",
       "    <tr>\n",
       "      <th>1</th>\n",
       "      <td>K-Means</td>\n",
       "      <td>2</td>\n",
       "      <td>3</td>\n",
       "      <td>0.704062</td>\n",
       "      <td>12464.255859</td>\n",
       "      <td>0.457250</td>\n",
       "    </tr>\n",
       "    <tr>\n",
       "      <th>2</th>\n",
       "      <td>K-Means</td>\n",
       "      <td>2</td>\n",
       "      <td>4</td>\n",
       "      <td>0.662962</td>\n",
       "      <td>11650.318359</td>\n",
       "      <td>0.604808</td>\n",
       "    </tr>\n",
       "    <tr>\n",
       "      <th>3</th>\n",
       "      <td>K-Means</td>\n",
       "      <td>2</td>\n",
       "      <td>5</td>\n",
       "      <td>0.571974</td>\n",
       "      <td>11712.665039</td>\n",
       "      <td>0.677969</td>\n",
       "    </tr>\n",
       "    <tr>\n",
       "      <th>4</th>\n",
       "      <td>K-Means</td>\n",
       "      <td>2</td>\n",
       "      <td>6</td>\n",
       "      <td>0.541840</td>\n",
       "      <td>11313.933594</td>\n",
       "      <td>0.681109</td>\n",
       "    </tr>\n",
       "    <tr>\n",
       "      <th>...</th>\n",
       "      <td>...</td>\n",
       "      <td>...</td>\n",
       "      <td>...</td>\n",
       "      <td>...</td>\n",
       "      <td>...</td>\n",
       "      <td>...</td>\n",
       "    </tr>\n",
       "    <tr>\n",
       "      <th>157</th>\n",
       "      <td>GaussMix</td>\n",
       "      <td>10</td>\n",
       "      <td>6</td>\n",
       "      <td>0.242046</td>\n",
       "      <td>2737.137451</td>\n",
       "      <td>2.163803</td>\n",
       "    </tr>\n",
       "    <tr>\n",
       "      <th>158</th>\n",
       "      <td>GaussMix</td>\n",
       "      <td>10</td>\n",
       "      <td>7</td>\n",
       "      <td>0.200607</td>\n",
       "      <td>2502.307861</td>\n",
       "      <td>1.819463</td>\n",
       "    </tr>\n",
       "    <tr>\n",
       "      <th>159</th>\n",
       "      <td>GaussMix</td>\n",
       "      <td>10</td>\n",
       "      <td>8</td>\n",
       "      <td>0.200693</td>\n",
       "      <td>2238.511963</td>\n",
       "      <td>1.700150</td>\n",
       "    </tr>\n",
       "    <tr>\n",
       "      <th>160</th>\n",
       "      <td>GaussMix</td>\n",
       "      <td>10</td>\n",
       "      <td>9</td>\n",
       "      <td>0.180414</td>\n",
       "      <td>2161.071777</td>\n",
       "      <td>2.026747</td>\n",
       "    </tr>\n",
       "    <tr>\n",
       "      <th>161</th>\n",
       "      <td>GaussMix</td>\n",
       "      <td>10</td>\n",
       "      <td>10</td>\n",
       "      <td>0.120459</td>\n",
       "      <td>2174.759277</td>\n",
       "      <td>2.024947</td>\n",
       "    </tr>\n",
       "  </tbody>\n",
       "</table>\n",
       "<p>162 rows × 6 columns</p>\n",
       "</div>"
      ],
      "text/plain": [
       "       Method  Dims  Clusters  SH_score      CH_score  DB_score\n",
       "0     K-Means     2         2  0.645795   8199.580078  0.568039\n",
       "1     K-Means     2         3  0.704062  12464.255859  0.457250\n",
       "2     K-Means     2         4  0.662962  11650.318359  0.604808\n",
       "3     K-Means     2         5  0.571974  11712.665039  0.677969\n",
       "4     K-Means     2         6  0.541840  11313.933594  0.681109\n",
       "..        ...   ...       ...       ...           ...       ...\n",
       "157  GaussMix    10         6  0.242046   2737.137451  2.163803\n",
       "158  GaussMix    10         7  0.200607   2502.307861  1.819463\n",
       "159  GaussMix    10         8  0.200693   2238.511963  1.700150\n",
       "160  GaussMix    10         9  0.180414   2161.071777  2.026747\n",
       "161  GaussMix    10        10  0.120459   2174.759277  2.024947\n",
       "\n",
       "[162 rows x 6 columns]"
      ]
     },
     "execution_count": 5,
     "metadata": {},
     "output_type": "execute_result"
    }
   ],
   "source": [
    "metrics_SMACOF_dtw_classic_results = DataFrame(metrics_SMACOF_dtw_classic_results)\n",
    "metrics_SMACOF_dtw_classic_results"
   ]
  },
  {
   "cell_type": "code",
   "execution_count": 7,
   "metadata": {},
   "outputs": [],
   "source": [
    "def get_best_n_cluster_results(metrics_df) -> DataFrame:\n",
    "    scores_names = [\"SH_score\", \"CH_score\", \"DB_score\"]\n",
    "    indexes_by_score = dict()\n",
    "    ordered_solution_by_score = dict()\n",
    "\n",
    "    for score_name in scores_names:\n",
    "        if score_name == \"SH_score\" or score_name == \"CH_score\":\n",
    "            best_scores_idx = metrics_df.groupby(\"Dims\")[score_name].idxmax()\n",
    "        else:\n",
    "            best_scores_idx = metrics_df.groupby(\"Dims\")[score_name].idxmin()\n",
    "        indexes_by_score[score_name] = best_scores_idx\n",
    "\n",
    "        best_metrics_per_score = metrics_df[[\"Method\", \"Dims\", \"Clusters\", score_name]].loc[best_scores_idx]\n",
    "        ordered_solution_by_score[score_name] = best_metrics_per_score\n",
    "    \n",
    "    return ordered_solution_by_score\n",
    "\n",
    "best_cluster_solutions_by_dimension = get_best_n_cluster_results(metrics_SMACOF_dtw_classic_results)"
   ]
  },
  {
   "cell_type": "code",
   "execution_count": 8,
   "metadata": {},
   "outputs": [
    {
     "data": {
      "text/plain": [
       "{'SH_score':       Method  Dims  Clusters  SH_score\n",
       " 1    K-Means     2         3  0.704062\n",
       " 19   K-Means     3         3  0.666697\n",
       " 37   K-Means     4         3  0.654888\n",
       " 55   K-Means     5         3  0.649206\n",
       " 73   K-Means     6         3  0.646068\n",
       " 92   K-Means     7         4  0.646362\n",
       " 109  K-Means     8         3  0.643110\n",
       " 127  K-Means     9         3  0.642465\n",
       " 145  K-Means    10         3  0.641970,\n",
       " 'CH_score':       Method  Dims  Clusters      CH_score\n",
       " 1    K-Means     2         3  12464.255859\n",
       " 19   K-Means     3         3   8829.834961\n",
       " 37   K-Means     4         3   8253.143555\n",
       " 55   K-Means     5         3   8025.682617\n",
       " 73   K-Means     6         3   7932.884766\n",
       " 91   K-Means     7         3   7883.634277\n",
       " 109  K-Means     8         3   7853.528320\n",
       " 127  K-Means     9         3   7837.043945\n",
       " 145  K-Means    10         3   7824.377441,\n",
       " 'DB_score':       Method  Dims  Clusters  DB_score\n",
       " 1    K-Means     2         3  0.457250\n",
       " 19   K-Means     3         3  0.575820\n",
       " 37   K-Means     4         3  0.611693\n",
       " 55   K-Means     5         3  0.629500\n",
       " 73   K-Means     6         3  0.637470\n",
       " 91   K-Means     7         3  0.641834\n",
       " 109  K-Means     8         3  0.643751\n",
       " 127  K-Means     9         3  0.645588\n",
       " 145  K-Means    10         3  0.646696}"
      ]
     },
     "execution_count": 8,
     "metadata": {},
     "output_type": "execute_result"
    }
   ],
   "source": [
    "best_cluster_solutions_by_dimension"
   ]
  },
  {
   "cell_type": "code",
   "execution_count": 16,
   "metadata": {},
   "outputs": [
    {
     "data": {
      "image/png": "[encoded data removed]",
      "text/plain": [
       "<Figure size 1800x700 with 3 Axes>"
      ]
     },
     "metadata": {},
     "output_type": "display_data"
    }
   ],
   "source": [
    "fig, axes = plt.subplots(1, 3, figsize=(18, 7), sharey=True)\n",
    "subplots_titles = (\"Silhouette Score\", \"Calinski-Harabasz Score\", \"Davies-Bouldin Score\")\n",
    "subplots_colors = (\"red\", \"blue\", \"green\")\n",
    "subplots_text_colors = (\"black\", \"white\", \"black\")\n",
    "\n",
    "for k, score_name in enumerate(best_cluster_solutions_by_dimension.keys()):\n",
    "    # Obtener listas de valores\n",
    "    score_values = best_cluster_solutions_by_dimension[score_name][score_name].tolist()\n",
    "    dims = best_cluster_solutions_by_dimension[score_name][\"Dims\"].tolist()\n",
    "    methods = best_cluster_solutions_by_dimension[score_name][\"Method\"].tolist()\n",
    "    clusters = best_cluster_solutions_by_dimension[score_name][\"Clusters\"].tolist()\n",
    "\n",
    "    # Anotaciones con el modelo y número de clusters\n",
    "    annotations = [f\"{m}-{c}\" for m, c in zip(methods, clusters)]\n",
    "\n",
    "    ax = axes[k]\n",
    "    ax.barh(dims, score_values, color=subplots_colors[k], edgecolor='black')\n",
    "    ax.set_yticks(dims)\n",
    "\n",
    "    # Añadir anotaciones en la mitad de cada barra\n",
    "    for y, x, label in zip(dims, score_values, annotations):\n",
    "        ax.text(x / 2.0, y, label, va='center', ha='center',\n",
    "                fontsize= 14, color = subplots_text_colors[k])\n",
    "\n",
    "    # Configuraciones del subplot\n",
    "    ax.set_title(subplots_titles[k], fontsize=14, fontweight='bold')\n",
    "    ax.set_xlabel('Score', fontsize=14)\n",
    "    ax.invert_yaxis()  # Opcional: para que las menores dimensiones estén arriba\n",
    "\n",
    "axes[0].set_ylabel('Number of Dimensions', fontsize=14)\n",
    "\n",
    "fig.tight_layout()\n",
    "plt.show()"
   ]
  }
 ],
 "metadata": {
  "kernelspec": {
   "display_name": "Python 3",
   "language": "python",
   "name": "python3"
  },
  "language_info": {
   "codemirror_mode": {
    "name": "ipython",
    "version": 3
   },
   "file_extension": ".py",
   "mimetype": "text/x-python",
   "name": "python",
   "nbconvert_exporter": "python",
   "pygments_lexer": "ipython3",
   "version": "3.13.5"
  }
 },
 "nbformat": 4,
 "nbformat_minor": 4
}
