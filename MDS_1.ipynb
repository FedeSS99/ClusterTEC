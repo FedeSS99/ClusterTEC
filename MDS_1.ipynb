{
 "cells": [
  {
   "cell_type": "code",
   "execution_count": null,
   "metadata": {},
   "outputs": [],
   "source": [
    "from scripts.ClusterTS_MDS import ClusterMDS\n",
    "from numpy import loadtxt, float64\n",
    "\n",
    "from matplotlib.pyplot import subplots, show\n",
    "from matplotlib import rcParams\n",
    "rcParams.update({\n",
    "    \"text.usetex\": True\n",
    "})"
   ]
  },
  {
   "cell_type": "code",
   "execution_count": null,
   "metadata": {},
   "outputs": [],
   "source": [
    "PTEX_dissim = loadtxt(\"./data/PTEX_DTW_matrix.dat\", dtype= float64, delimiter = \",\")"
   ]
  },
  {
   "cell_type": "code",
   "execution_count": null,
   "metadata": {},
   "outputs": [],
   "source": [
    "# Name of MDS procedures and number of dimensions to check stress-1\n",
    "list_procedures = (\"classic\", \"dissim\", \"SMACOF-euclidean\", \"SMACOF-dissim\", \"SMACOF-euclidean-classic\", \"SMACOF-dissim-classic\")\n",
    "list_dimensions = list(range(1, 11))\n",
    "\n",
    "# SMACOF hyperpameters\n",
    "max_iters = 1000\n",
    "eps = 1e-6\n",
    "\n",
    "# Time Series Clustering through MDS class instance\n",
    "TEC_ClusterSeries = ClusterMDS(dissimilarity = PTEX_dissim)"
   ]
  },
  {
   "cell_type": "markdown",
   "metadata": {},
   "source": [
    "### Exploración de métodos MDS"
   ]
  },
  {
   "cell_type": "code",
   "execution_count": null,
   "metadata": {},
   "outputs": [],
   "source": [
    "stress_by_procedure = dict()\n",
    "\n",
    "for procedure in list_procedures:\n",
    "    stress_by_procedure[procedure] = len(list_dimensions)*[0.0]\n",
    "    for k, num_dim in enumerate(list_dimensions):\n",
    "        stress = TEC_ClusterSeries.ComputeMDS(num_comps_mds = num_dim, method = procedure, max_iter = max_iters, eps = eps, verbose = 1, visualize_shepard = False)\n",
    "        stress_by_procedure[procedure][k] = stress"
   ]
  },
  {
   "cell_type": "markdown",
   "metadata": {},
   "source": [
    "## Curvas Stress-1"
   ]
  },
  {
   "cell_type": "code",
   "execution_count": null,
   "metadata": {},
   "outputs": [],
   "source": [
    "Figure, Subplot = subplots(1, 1, figsize = (7, 7))\n",
    "\n",
    "for procedure in list_procedures:\n",
    "    Subplot.plot(list_dimensions, stress_by_procedure[procedure], \"-d\", label =  procedure)\n",
    "Subplot.axhline(y = 0.2, color = \"black\", linestyle = \"--\", alpha = 0.5, zorder = 0)\n",
    "Subplot.axhline(y = 0.1, color = \"black\", linestyle = \"--\", alpha = 0.5, zorder = 0)\n",
    "Subplot.axhline(y = 0.05, color = \"black\", linestyle = \"--\", alpha = 0.5, zorder = 0)\n",
    "Subplot.set_xlabel(\"Number of dimensions\")\n",
    "Subplot.set_ylabel(\"Stress-1\")\n",
    "Subplot.legend()\n",
    "\n",
    "Figure.tight_layout()\n",
    "\n",
    "show()"
   ]
  }
 ],
 "metadata": {
  "kernelspec": {
   "display_name": "Python 3",
   "language": "python",
   "name": "python3"
  },
  "language_info": {
   "codemirror_mode": {
    "name": "ipython",
    "version": 3
   },
   "file_extension": ".py",
   "mimetype": "text/x-python",
   "name": "python",
   "nbconvert_exporter": "python",
   "pygments_lexer": "ipython3",
   "version": "3.13.3"
  }
 },
 "nbformat": 4,
 "nbformat_minor": 4
}
