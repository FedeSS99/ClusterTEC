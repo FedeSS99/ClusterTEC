{
 "cells": [
  {
   "cell_type": "code",
   "execution_count": 1,
   "metadata": {},
   "outputs": [],
   "source": [
    "from scripts.subscripts.SYNCLUS import SYNCLUS\n",
    "import numpy as np\n",
    "\n",
    "from matplotlib import rcParams\n",
    "import colorcet as cc\n",
    "\n",
    "rcParams.update({\n",
    "    \"text.usetex\": True,\n",
    "})"
   ]
  },
  {
   "cell_type": "code",
   "execution_count": 2,
   "metadata": {},
   "outputs": [],
   "source": [
    "PTEX_dissim = np.loadtxt(\"../data/PTEX_DTW_matrix.dat\", dtype= np.float32, delimiter = \",\")"
   ]
  },
  {
   "cell_type": "code",
   "execution_count": 3,
   "metadata": {},
   "outputs": [],
   "source": [
    "from scripts.ClusterMetrics import silhouette_score_precomputed, calinski_harabasz_score_precomputed, davies_bouldin_score_precomputed\n",
    "\n",
    "def GetClusteringMetrics(dissim, Labels):\n",
    "    SH_score = silhouette_score_precomputed(dissim, Labels)\n",
    "    CH_score = calinski_harabasz_score_precomputed(dissim, Labels)\n",
    "    DB_score = davies_bouldin_score_precomputed(dissim, Labels)\n",
    "\n",
    "    return (SH_score, CH_score, DB_score)"
   ]
  },
  {
   "cell_type": "code",
   "execution_count": 4,
   "metadata": {},
   "outputs": [],
   "source": [
    "from matplotlib.pyplot import subplots, show\n",
    "\n",
    "def VisualizeClusterMetrics(metrics_by_num):\n",
    "    Figure, Subplot = subplots(3, 1, sharex = True, figsize = (7, 7))\n",
    "    Figure.suptitle(\"SYNCLUS metrics\")\n",
    "\n",
    "    num_clusters = tuple(metrics_by_num.keys())\n",
    "    SC, CH, DB = zip(*tuple(metrics_by_num.values()))\n",
    "    subplots_colors = (\"red\", \"blue\", \"green\")\n",
    "\n",
    "    maximum_SC_coeff = np.argmax(SC)\n",
    "    maximum_CH_index = np.argmax(CH)\n",
    "    minimum_DB_index = np.argmin(DB)\n",
    "    print(\"Number of clusters given by maximum SC score: \", num_clusters[maximum_SC_coeff])\n",
    "    print(\"Number of clusters given by maximum CH score: \", num_clusters[maximum_CH_index])\n",
    "    print(\"Number of clusters given by minimum DB score: \", num_clusters[minimum_DB_index])\n",
    "\n",
    "    Subplot[0].plot(num_clusters, SC, \"-o\", color = subplots_colors[0])\n",
    "    Subplot[1].plot(num_clusters, CH, \"-o\", color = subplots_colors[1])\n",
    "    Subplot[2].plot(num_clusters, DB, \"-o\", color = subplots_colors[2])\n",
    "\n",
    "    Subplot[2].set_xlabel(\"No. of clusters\")\n",
    "    Subplot[0].set_ylabel(\"Silhouette Coefficient\")\n",
    "    Subplot[1].set_ylabel(\"Calinski-Harabasz Index\")\n",
    "    Subplot[2].set_ylabel(\"Davies-Bouldin Index\")\n",
    "\n",
    "    Figure.tight_layout()\n",
    "\n",
    "    show()"
   ]
  },
  {
   "cell_type": "code",
   "execution_count": 5,
   "metadata": {},
   "outputs": [
    {
     "name": "stderr",
     "output_type": "stream",
     "text": [
      "100%|██████████| 100/100 [00:33<00:00,  2.96it/s]\n"
     ]
    },
    {
     "name": "stdout",
     "output_type": "stream",
     "text": [
      "Best SYNCLUS model at index 7 with EP = 228378.979258  for 2 clusters\n"
     ]
    },
    {
     "name": "stderr",
     "output_type": "stream",
     "text": [
      "100%|██████████| 100/100 [00:36<00:00,  2.76it/s]\n"
     ]
    },
    {
     "name": "stdout",
     "output_type": "stream",
     "text": [
      "Best SYNCLUS model at index 2 with EP = 128290.863777  for 3 clusters\n"
     ]
    },
    {
     "name": "stderr",
     "output_type": "stream",
     "text": [
      "100%|██████████| 100/100 [01:14<00:00,  1.35it/s]\n"
     ]
    },
    {
     "name": "stdout",
     "output_type": "stream",
     "text": [
      "Best SYNCLUS model at index 22 with EP = 114589.836978  for 4 clusters\n"
     ]
    },
    {
     "name": "stderr",
     "output_type": "stream",
     "text": [
      "100%|██████████| 100/100 [01:49<00:00,  1.10s/it]\n"
     ]
    },
    {
     "name": "stdout",
     "output_type": "stream",
     "text": [
      "Best SYNCLUS model at index 30 with EP = 101932.735867  for 5 clusters\n"
     ]
    },
    {
     "name": "stderr",
     "output_type": "stream",
     "text": [
      "100%|██████████| 100/100 [02:02<00:00,  1.23s/it]\n"
     ]
    },
    {
     "name": "stdout",
     "output_type": "stream",
     "text": [
      "Best SYNCLUS model at index 52 with EP = 92382.849826  for 6 clusters\n"
     ]
    },
    {
     "name": "stderr",
     "output_type": "stream",
     "text": [
      "100%|██████████| 100/100 [01:44<00:00,  1.05s/it]\n"
     ]
    },
    {
     "name": "stdout",
     "output_type": "stream",
     "text": [
      "Best SYNCLUS model at index 40 with EP = 87909.816644  for 7 clusters\n"
     ]
    },
    {
     "name": "stderr",
     "output_type": "stream",
     "text": [
      "100%|██████████| 100/100 [02:23<00:00,  1.44s/it]\n"
     ]
    },
    {
     "name": "stdout",
     "output_type": "stream",
     "text": [
      "Best SYNCLUS model at index 63 with EP = 83810.760202  for 8 clusters\n"
     ]
    },
    {
     "name": "stderr",
     "output_type": "stream",
     "text": [
      "100%|██████████| 100/100 [02:46<00:00,  1.67s/it]\n"
     ]
    },
    {
     "name": "stdout",
     "output_type": "stream",
     "text": [
      "Best SYNCLUS model at index 7 with EP = 80610.015664  for 9 clusters\n"
     ]
    },
    {
     "name": "stderr",
     "output_type": "stream",
     "text": [
      "100%|██████████| 100/100 [03:20<00:00,  2.00s/it]\n"
     ]
    },
    {
     "name": "stdout",
     "output_type": "stream",
     "text": [
      "Best SYNCLUS model at index 86 with EP = 77291.112614  for 10 clusters\n"
     ]
    }
   ],
   "source": [
    "metrics_by_clusters = dict()\n",
    "num_iters = 100\n",
    "num_reps = 100\n",
    "num_clusters = tuple(range(2, 11))\n",
    "\n",
    "for k in num_clusters:\n",
    "    SYNCLUS_VTEC = SYNCLUS(PTEX_dissim, K = k, iter = num_iters, reps = num_reps)\n",
    "    BestSYNCLUS = SYNCLUS_VTEC.fit_predict()\n",
    "    Metrics = GetClusteringMetrics(PTEX_dissim, BestSYNCLUS[\"end_clusters\"])\n",
    "\n",
    "    metrics_by_clusters[k] = Metrics"
   ]
  },
  {
   "cell_type": "code",
   "execution_count": 6,
   "metadata": {},
   "outputs": [
    {
     "name": "stdout",
     "output_type": "stream",
     "text": [
      "Number of clusters given by maximum SC score:  3\n",
      "Number of clusters given by maximum CH score:  2\n",
      "Number of clusters given by minimum DB score:  2\n"
     ]
    },
    {
     "data": {
      "image/png": "[encoded data removed]",
      "text/plain": [
       "<Figure size 700x700 with 3 Axes>"
      ]
     },
     "metadata": {},
     "output_type": "display_data"
    }
   ],
   "source": [
    "VisualizeClusterMetrics(metrics_by_clusters)"
   ]
  },
  {
   "cell_type": "code",
   "execution_count": 9,
   "metadata": {},
   "outputs": [
    {
     "name": "stderr",
     "output_type": "stream",
     "text": [
      "  0%|          | 0/100 [00:00<?, ?it/s]"
     ]
    },
    {
     "name": "stderr",
     "output_type": "stream",
     "text": [
      "100%|██████████| 100/100 [00:44<00:00,  2.25it/s]"
     ]
    },
    {
     "name": "stdout",
     "output_type": "stream",
     "text": [
      "Best SYNCLUS model at index 8 with EP = 128290.863777  for 3 clusters\n"
     ]
    },
    {
     "name": "stderr",
     "output_type": "stream",
     "text": [
      "\n"
     ]
    }
   ],
   "source": [
    "BestLabelsSYNCLUS = SYNCLUS(PTEX_dissim, K = 3, iter = num_iters, reps = num_reps).fit_predict()[\"end_clusters\"]\n",
    "\n",
    "np.savetxt(\"../data/PTEX_SYNCLUS_Labels.dat\", BestLabelsSYNCLUS.reshape(BestLabelsSYNCLUS.size, 1), fmt = \"%d\")"
   ]
  }
 ],
 "metadata": {
  "kernelspec": {
   "display_name": "Python 3",
   "language": "python",
   "name": "python3"
  },
  "language_info": {
   "codemirror_mode": {
    "name": "ipython",
    "version": 3
   },
   "file_extension": ".py",
   "mimetype": "text/x-python",
   "name": "python",
   "nbconvert_exporter": "python",
   "pygments_lexer": "ipython3",
   "version": "3.13.5"
  }
 },
 "nbformat": 4,
 "nbformat_minor": 2
}
